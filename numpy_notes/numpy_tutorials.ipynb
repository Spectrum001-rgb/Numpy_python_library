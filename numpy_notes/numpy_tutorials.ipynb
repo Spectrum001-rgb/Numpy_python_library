{
 "cells": [
  {
   "cell_type": "markdown",
   "id": "2ae1df17",
   "metadata": {},
   "source": [
    "#                  Numpy"
   ]
  },
  {
   "cell_type": "markdown",
   "id": "5b1b3f82",
   "metadata": {},
   "source": [
    "#    Importing numpy\n"
   ]
  },
  {
   "cell_type": "code",
   "execution_count": 2,
   "id": "e32cc82b",
   "metadata": {},
   "outputs": [],
   "source": [
    "import numpy as np\n",
    "import pandas as pd"
   ]
  },
  {
   "cell_type": "markdown",
   "id": "b0158345",
   "metadata": {},
   "source": [
    "# The basics"
   ]
  },
  {
   "cell_type": "code",
   "execution_count": 6,
   "id": "023ded76",
   "metadata": {},
   "outputs": [
    {
     "name": "stdout",
     "output_type": "stream",
     "text": [
      "[1 2 3]\n"
     ]
    }
   ],
   "source": [
    "a=np.array([1,2,3])                #1-D array\n",
    "print(a)"
   ]
  },
  {
   "cell_type": "code",
   "execution_count": 10,
   "id": "9e333835",
   "metadata": {},
   "outputs": [
    {
     "name": "stdout",
     "output_type": "stream",
     "text": [
      "[[1 2 3 4]\n",
      " [5 6 7 8]]\n"
     ]
    }
   ],
   "source": [
    "b=np.array([[1,2,3,4] ,               #2-D array\n",
    "          [5,6,7,8]])  \n",
    "\n",
    "print(b)"
   ]
  },
  {
   "cell_type": "code",
   "execution_count": 14,
   "id": "a44de955",
   "metadata": {},
   "outputs": [
    {
     "name": "stdout",
     "output_type": "stream",
     "text": [
      "1 2\n"
     ]
    }
   ],
   "source": [
    "#get dimenssion of the array\n",
    "\n",
    "n1 = a.ndim\n",
    "\n",
    "n2 = b.ndim\n",
    "\n",
    "print(n1,n2)"
   ]
  },
  {
   "cell_type": "code",
   "execution_count": 17,
   "id": "1b1c122d",
   "metadata": {},
   "outputs": [
    {
     "name": "stdout",
     "output_type": "stream",
     "text": [
      "(3,)\n",
      "(2, 4)\n"
     ]
    }
   ],
   "source": [
    "# get shape (this only gives the total row and column of the array )\n",
    "\n",
    "print(a.shape) # only shows the column part in 1-D array\n",
    "print(b.shape)"
   ]
  },
  {
   "cell_type": "code",
   "execution_count": 18,
   "id": "7a1b651d",
   "metadata": {},
   "outputs": [
    {
     "data": {
      "text/plain": [
       "dtype('int32')"
      ]
     },
     "execution_count": 18,
     "metadata": {},
     "output_type": "execute_result"
    }
   ],
   "source": [
    "# get data-type\n",
    "b.dtype"
   ]
  },
  {
   "cell_type": "code",
   "execution_count": 25,
   "id": "74c58a7c",
   "metadata": {},
   "outputs": [
    {
     "name": "stdout",
     "output_type": "stream",
     "text": [
      "int32 float16\n"
     ]
    }
   ],
   "source": [
    "#we could change the default data type stored in the array\n",
    "\n",
    "c=np.array(a,dtype='float16')\n",
    "print(a.dtype,c.dtype)"
   ]
  },
  {
   "cell_type": "code",
   "execution_count": 29,
   "id": "1ecba868",
   "metadata": {},
   "outputs": [
    {
     "name": "stdout",
     "output_type": "stream",
     "text": [
      "3\n",
      "2\n",
      "4\n"
     ]
    }
   ],
   "source": [
    "#get size\n",
    "\n",
    "print(c.size)  #this gives the total number of the elements present in the numpy array\n",
    "\n",
    "print(c.itemsize)  # this gives the total byte size of the numpy array \n",
    "print(b.itemsize)"
   ]
  },
  {
   "cell_type": "code",
   "execution_count": null,
   "id": "0eadfe75",
   "metadata": {},
   "outputs": [],
   "source": []
  },
  {
   "cell_type": "markdown",
   "id": "11e0b239",
   "metadata": {},
   "source": [
    "# Accessing / Changing specific elements , rows , colums , etc ."
   ]
  },
  {
   "cell_type": "code",
   "execution_count": 33,
   "id": "6316e327",
   "metadata": {},
   "outputs": [
    {
     "name": "stdout",
     "output_type": "stream",
     "text": [
      "[[ 1  2  3  4  5  6  7]\n",
      " [ 8  9 10 11 12 13 14]]\n"
     ]
    }
   ],
   "source": [
    "d=np.array([[1,2,3,4,5,6,7],[8,9,10,11,12,13,14]])\n",
    "print(d)  # 2 X 7 dimemenssion array ."
   ]
  },
  {
   "cell_type": "code",
   "execution_count": 35,
   "id": "ea67fb6b",
   "metadata": {},
   "outputs": [
    {
     "name": "stdout",
     "output_type": "stream",
     "text": [
      "13\n"
     ]
    }
   ],
   "source": [
    "#getting a specific element arr[r1,c1]\n",
    "\n",
    "print(d[1,5])  #accessing elements"
   ]
  },
  {
   "cell_type": "code",
   "execution_count": 44,
   "id": "51e590a4",
   "metadata": {},
   "outputs": [
    {
     "name": "stdout",
     "output_type": "stream",
     "text": [
      "[1 2 3 4 5 6 7]\n",
      "[ 3 10]\n"
     ]
    }
   ],
   "source": [
    "## get a specific row\n",
    "print(d[0,:])  #accessing a specific row\n",
    "\n",
    "print(d[:,2])  #accessing a specific column\n",
    "\n"
   ]
  },
  {
   "cell_type": "code",
   "execution_count": 49,
   "id": "b7d265e4",
   "metadata": {},
   "outputs": [
    {
     "name": "stdout",
     "output_type": "stream",
     "text": [
      "[2 4 6]\n"
     ]
    }
   ],
   "source": [
    "#accesing more elements with step_count -> [start_index , end_index: step_count]\n",
    "print(d[0,1:6:2])"
   ]
  },
  {
   "cell_type": "code",
   "execution_count": 56,
   "id": "f97f423b",
   "metadata": {},
   "outputs": [
    {
     "name": "stdout",
     "output_type": "stream",
     "text": [
      "[[101 101 101 101 101 101 101]\n",
      " [ 20 500  10  11  12  13  14]]\n",
      "\n",
      "[[101 500 101 101 101 101 101]\n",
      " [ 20 500  10  11  12  13  14]]\n",
      "\n",
      "[[101 101 101 101 101 101 101]\n",
      " [ 20 500  10  11  12  13  14]]\n"
     ]
    }
   ],
   "source": [
    "d[1,0]=20  # changing the specific elements\n",
    "print(d)\n",
    "\n",
    "print()\n",
    "#entire row or column\n",
    "\n",
    "d[:,1]=500 #entire column\n",
    "print(d)\n",
    "print()\n",
    "d[0,:]=101 #entire row\n",
    "print(d)"
   ]
  },
  {
   "cell_type": "code",
   "execution_count": 64,
   "id": "fad01e08",
   "metadata": {},
   "outputs": [
    {
     "data": {
      "text/plain": [
       "array([[1, 2],\n",
       "       [3, 4]])"
      ]
     },
     "execution_count": 64,
     "metadata": {},
     "output_type": "execute_result"
    }
   ],
   "source": [
    "# 3-D array\n",
    "\n",
    "e=np.array([[[1,2],[3,4]],[[5,6],[7,8]]])\n",
    "e\n",
    "\n",
    "e[0,0:2,0:2]   # same propeties as the 1-D / 2-D arrays just three parameters are there ."
   ]
  },
  {
   "cell_type": "code",
   "execution_count": null,
   "id": "819b8ed9",
   "metadata": {},
   "outputs": [],
   "source": []
  },
  {
   "cell_type": "markdown",
   "id": "a78d6d9b",
   "metadata": {},
   "source": [
    "# Initialize different types of arrays"
   ]
  },
  {
   "cell_type": "code",
   "execution_count": 70,
   "id": "9fd3069b",
   "metadata": {},
   "outputs": [
    {
     "name": "stdout",
     "output_type": "stream",
     "text": [
      "[0. 0. 0. 0. 0.]\n",
      "\n",
      "[[[0. 0. 0.]\n",
      "  [0. 0. 0.]]\n",
      "\n",
      " [[0. 0. 0.]\n",
      "  [0. 0. 0.]]]\n"
     ]
    }
   ],
   "source": [
    "# all zeros matrix\n",
    "\n",
    "a=np.zeros(5) # 1-D array initialized with zeros\n",
    "print(a)\n",
    "\n",
    "print()\n",
    "\n",
    "b=np.zeros([2,2,3])  # 3-d array inoitialisation with zeros\n",
    "print(b)"
   ]
  },
  {
   "cell_type": "code",
   "execution_count": 73,
   "id": "ffd44773",
   "metadata": {},
   "outputs": [
    {
     "name": "stdout",
     "output_type": "stream",
     "text": [
      "[1. 1. 1. 1. 1.]\n",
      "\n",
      "[[[1. 1. 1.]\n",
      "  [1. 1. 1.]]\n",
      "\n",
      " [[1. 1. 1.]\n",
      "  [1. 1. 1.]]]\n"
     ]
    }
   ],
   "source": [
    "#all 1's matrix\n",
    "\n",
    "a=np.ones(5) # 1-D array initialized with ones\n",
    "print(a)\n",
    "\n",
    "print()\n",
    "\n",
    "b=np.ones([2,2,3])  # 3-d array inoitialisation with ones\n",
    "print(b)"
   ]
  },
  {
   "cell_type": "code",
   "execution_count": 77,
   "id": "784f79d8",
   "metadata": {},
   "outputs": [
    {
     "name": "stdout",
     "output_type": "stream",
     "text": [
      "[[100. 100. 100. 100. 100.]\n",
      " [100. 100. 100. 100. 100.]\n",
      " [100. 100. 100. 100. 100.]\n",
      " [100. 100. 100. 100. 100.]\n",
      " [100. 100. 100. 100. 100.]]\n"
     ]
    }
   ],
   "source": [
    "#All other numbers\n",
    "a=np.full((5,5) ,100,dtype='float16') #any dimension array can be initialized with any value\n",
    "\n",
    "print(a)\n"
   ]
  },
  {
   "cell_type": "code",
   "execution_count": 80,
   "id": "f54c5267",
   "metadata": {},
   "outputs": [
    {
     "data": {
      "text/plain": [
       "array([[[4., 4., 4.],\n",
       "        [4., 4., 4.]],\n",
       "\n",
       "       [[4., 4., 4.],\n",
       "        [4., 4., 4.]]])"
      ]
     },
     "execution_count": 80,
     "metadata": {},
     "output_type": "execute_result"
    }
   ],
   "source": [
    "# Any other numbers (full_like)\n",
    "a=np.full_like(b,4)\n",
    "a"
   ]
  },
  {
   "cell_type": "code",
   "execution_count": 90,
   "id": "330a3f4c",
   "metadata": {},
   "outputs": [
    {
     "name": "stdout",
     "output_type": "stream",
     "text": [
      "[[[0.3544572  0.91725425 0.24985157]\n",
      "  [0.50571646 0.98174593 0.71073913]]\n",
      "\n",
      " [[0.98546768 0.69129148 0.49815973]\n",
      "  [0.39501321 0.72422818 0.06860095]]\n",
      "\n",
      " [[0.38338578 0.7723791  0.11618251]\n",
      "  [0.20298606 0.12596367 0.86555963]]\n",
      "\n",
      " [[0.29198553 0.48313631 0.40098303]\n",
      "  [0.12909517 0.44939929 0.32664427]]]\n",
      "\n",
      "[0.4845397  0.48347204 0.78792964 0.97309926 0.02207431]\n"
     ]
    }
   ],
   "source": [
    "#initialize array with random array element numbers any dimensions \n",
    "\n",
    "a=np.random.rand(4,2,3)\n",
    "print(a)\n",
    "\n",
    "print()\n",
    "b=np.random.rand(c.size)\n",
    "print(b)"
   ]
  },
  {
   "cell_type": "code",
   "execution_count": 101,
   "id": "f1583798",
   "metadata": {},
   "outputs": [
    {
     "name": "stdout",
     "output_type": "stream",
     "text": [
      "[[5 5 7]\n",
      " [6 6 6]\n",
      " [6 7 5]]\n"
     ]
    }
   ],
   "source": [
    "#Random Integer values\n",
    "f=np.random.randint(5,8 , size=(3,3))  #every thing same as the random decimal part just shown above\n",
    "print(f)    #the (5->inclusize,8->exclusive,size of the ,mattrix) "
   ]
  },
  {
   "cell_type": "code",
   "execution_count": 105,
   "id": "be7da02b",
   "metadata": {},
   "outputs": [
    {
     "data": {
      "text/plain": [
       "array([[1., 0., 0., 0.],\n",
       "       [0., 1., 0., 0.],\n",
       "       [0., 0., 1., 0.],\n",
       "       [0., 0., 0., 1.]])"
      ]
     },
     "execution_count": 105,
     "metadata": {},
     "output_type": "execute_result"
    }
   ],
   "source": [
    "#identity matrix->n size array ->(n*n) size array and all the digonal elements will be same\n",
    "\n",
    "a=np.identity(4)\n",
    "a"
   ]
  },
  {
   "cell_type": "code",
   "execution_count": 115,
   "id": "49ce3c00",
   "metadata": {},
   "outputs": [
    {
     "name": "stdout",
     "output_type": "stream",
     "text": [
      "[[1 2 3]\n",
      " [1 2 3]\n",
      " [1 2 3]\n",
      " [4 5 6]\n",
      " [4 5 6]\n",
      " [4 5 6]]\n"
     ]
    }
   ],
   "source": [
    "#repeating array\n",
    "\n",
    "arr=np.array([[1,2,3],[4,5,6]])\n",
    "r1=np.repeat(arr,3,axis=0)   #axis =0 ->represents->row , axis =1 ->represents -> column\n",
    "print(r1)"
   ]
  },
  {
   "cell_type": "code",
   "execution_count": 130,
   "id": "e1741630",
   "metadata": {},
   "outputs": [
    {
     "name": "stdout",
     "output_type": "stream",
     "text": [
      "[[1 1 1 1 1]\n",
      " [1 0 0 0 1]\n",
      " [1 0 9 0 1]\n",
      " [1 0 0 0 1]\n",
      " [1 1 1 1 1]]\n",
      "\n",
      "\n",
      "[[1 1 1 1 1]\n",
      " [1 0 0 0 1]\n",
      " [1 0 9 0 1]\n",
      " [1 0 0 0 1]\n",
      " [1 1 1 1 1]]\n"
     ]
    }
   ],
   "source": [
    "#initialize \n",
    "g=np.array([[1,1,1,1,1],[1,0,0,0,1],[1,0,9,0,1],[1,0,0,0,1],[1,1,1,1,1]])\n",
    "print(g)\n",
    "\n",
    "print()\n",
    "output=np.ones((5,5))\n",
    "z=np.zeros((3,3))\n",
    "z[1,1]=9\n",
    "print()\n",
    "output[1:4,1:4]=z\n",
    "output=np.array(output,dtype='int16')\n",
    "print(output)\n"
   ]
  },
  {
   "cell_type": "code",
   "execution_count": null,
   "id": "5466621d",
   "metadata": {},
   "outputs": [],
   "source": []
  },
  {
   "cell_type": "markdown",
   "id": "97ff2575",
   "metadata": {},
   "source": [
    "# Copying"
   ]
  },
  {
   "cell_type": "code",
   "execution_count": 137,
   "id": "3aebabf9",
   "metadata": {},
   "outputs": [
    {
     "data": {
      "text/plain": [
       "array([1, 2, 3])"
      ]
     },
     "execution_count": 137,
     "metadata": {},
     "output_type": "execute_result"
    }
   ],
   "source": [
    "a=np.array([1,2,3])\n",
    "b=a.copy()\n",
    "b  #direct copying from a"
   ]
  },
  {
   "cell_type": "code",
   "execution_count": 141,
   "id": "1fbb8795",
   "metadata": {},
   "outputs": [
    {
     "name": "stdout",
     "output_type": "stream",
     "text": [
      "[  1 100   3]\n",
      "[1 2 3]\n"
     ]
    }
   ],
   "source": [
    "b[1]=100\n",
    "print(b)\n",
    "print(a)\n"
   ]
  },
  {
   "cell_type": "markdown",
   "id": "b580795e",
   "metadata": {},
   "source": [
    "# Mathematics"
   ]
  },
  {
   "cell_type": "code",
   "execution_count": null,
   "id": "fb0206cf",
   "metadata": {},
   "outputs": [],
   "source": [
    "a=np.array([1,2,3,4])\n",
    "b=np.array([5,6,7,8])"
   ]
  },
  {
   "cell_type": "code",
   "execution_count": 144,
   "id": "6bc4e12d",
   "metadata": {},
   "outputs": [
    {
     "data": {
      "text/plain": [
       "array([ 6,  8, 10, 12])"
      ]
     },
     "execution_count": 144,
     "metadata": {},
     "output_type": "execute_result"
    }
   ],
   "source": [
    "#sum\n",
    "\n",
    "c=a+b\n",
    "c\n"
   ]
  },
  {
   "cell_type": "code",
   "execution_count": 146,
   "id": "891624be",
   "metadata": {},
   "outputs": [
    {
     "data": {
      "text/plain": [
       "array([-4, -4, -4, -4])"
      ]
     },
     "execution_count": 146,
     "metadata": {},
     "output_type": "execute_result"
    }
   ],
   "source": [
    "#substract\n",
    "\n",
    "c=a-b\n",
    "c\n"
   ]
  },
  {
   "cell_type": "code",
   "execution_count": 148,
   "id": "8cd0831f",
   "metadata": {},
   "outputs": [
    {
     "data": {
      "text/plain": [
       "array([ 5, 12, 21, 32])"
      ]
     },
     "execution_count": 148,
     "metadata": {},
     "output_type": "execute_result"
    }
   ],
   "source": [
    "#multiply\n",
    "c=a*b\n",
    "c\n",
    "\n"
   ]
  },
  {
   "cell_type": "code",
   "execution_count": 151,
   "id": "2a9b0950",
   "metadata": {},
   "outputs": [
    {
     "name": "stdout",
     "output_type": "stream",
     "text": [
      "[0.5 1.  1.5 2. ]\n",
      "[0.2        0.33333333 0.42857143 0.5       ]\n"
     ]
    }
   ],
   "source": [
    "#divide\n",
    "c=a/2\n",
    "print(c)\n",
    "c=a/b\n",
    "print(c)"
   ]
  },
  {
   "cell_type": "code",
   "execution_count": 153,
   "id": "a1ccefcd",
   "metadata": {},
   "outputs": [
    {
     "name": "stdout",
     "output_type": "stream",
     "text": [
      "[    1    64  2187 65536]\n"
     ]
    }
   ],
   "source": [
    "#power\n",
    "c=a**b\n",
    "print(c)"
   ]
  },
  {
   "cell_type": "code",
   "execution_count": 156,
   "id": "5c4ea8d4",
   "metadata": {},
   "outputs": [
    {
     "name": "stdout",
     "output_type": "stream",
     "text": [
      "[ 0.84147098  0.90929743  0.14112001 -0.7568025 ]\n"
     ]
    }
   ],
   "source": [
    "#sin(x)\n",
    "\n",
    "c=np.sin(a)\n",
    "print(c)\n"
   ]
  },
  {
   "cell_type": "code",
   "execution_count": 159,
   "id": "1b66d6b1",
   "metadata": {},
   "outputs": [
    {
     "name": "stdout",
     "output_type": "stream",
     "text": [
      "[ 0.54030231 -0.41614684 -0.9899925  -0.65364362]\n"
     ]
    }
   ],
   "source": [
    "#cos(x)\n",
    "\n",
    "c=np.cos(a)\n",
    "print(c)\n",
    "\n"
   ]
  },
  {
   "cell_type": "code",
   "execution_count": 161,
   "id": "15679a69",
   "metadata": {},
   "outputs": [],
   "source": [
    "#etc, all other sec,cot,tan,etc function are saome as these are implemented "
   ]
  },
  {
   "cell_type": "code",
   "execution_count": null,
   "id": "18044701",
   "metadata": {},
   "outputs": [],
   "source": []
  },
  {
   "cell_type": "markdown",
   "id": "a798fc74",
   "metadata": {},
   "source": [
    "# Linear alzebra"
   ]
  },
  {
   "cell_type": "code",
   "execution_count": 173,
   "id": "bf959b61",
   "metadata": {},
   "outputs": [
    {
     "name": "stdout",
     "output_type": "stream",
     "text": [
      "[[1 1 1]\n",
      " [1 1 1]]\n",
      "\n",
      "[[2 2]\n",
      " [2 2]\n",
      " [2 2]]\n",
      "\n",
      "[[6 6]\n",
      " [6 6]]\n"
     ]
    }
   ],
   "source": [
    "a =np.full((2,3),1)\n",
    "print(a)\n",
    "                              #column of the 1st matriz should be equal to the the 2nd matrix row\n",
    "print()\n",
    "b=np.full((3,2),2)\n",
    "print(b)\n",
    "\n",
    "print()\n",
    "\n",
    "c=np.matmul(a,b)    #matrix multiplication\n",
    "print(c)\n"
   ]
  },
  {
   "cell_type": "code",
   "execution_count": 178,
   "id": "c6dfa972",
   "metadata": {},
   "outputs": [
    {
     "name": "stdout",
     "output_type": "stream",
     "text": [
      "-306\n"
     ]
    }
   ],
   "source": [
    "#determinant of a matrix  ->help in finding the invere and transpose of a matrix\n",
    "\n",
    "a=np.array([[6,1,1],[4,-2,5],[2,8,7]],dtype='int16')\n",
    "c=np.linalg.det(a)\n",
    "c=int(c)\n",
    "print(c)"
   ]
  },
  {
   "cell_type": "code",
   "execution_count": 180,
   "id": "02a4b81c",
   "metadata": {},
   "outputs": [],
   "source": [
    "#refer to Keith link for more functions on the linearalzebra"
   ]
  },
  {
   "cell_type": "code",
   "execution_count": null,
   "id": "d3135e9e",
   "metadata": {},
   "outputs": [],
   "source": []
  },
  {
   "cell_type": "markdown",
   "id": "f057acc4",
   "metadata": {},
   "source": [
    "# Statistics"
   ]
  },
  {
   "cell_type": "code",
   "execution_count": null,
   "id": "ead5cffd",
   "metadata": {},
   "outputs": [],
   "source": []
  },
  {
   "cell_type": "code",
   "execution_count": 182,
   "id": "c5010f1d",
   "metadata": {},
   "outputs": [
    {
     "data": {
      "text/plain": [
       "array([[1, 2, 3],\n",
       "       [4, 5, 6]])"
      ]
     },
     "execution_count": 182,
     "metadata": {},
     "output_type": "execute_result"
    }
   ],
   "source": [
    "stats=np.array([[1,2,3],[4,5,6]])\n",
    "stats"
   ]
  },
  {
   "cell_type": "code",
   "execution_count": 184,
   "id": "a352699b",
   "metadata": {},
   "outputs": [
    {
     "data": {
      "text/plain": [
       "1"
      ]
     },
     "execution_count": 184,
     "metadata": {},
     "output_type": "execute_result"
    }
   ],
   "source": [
    "#min\n",
    "np.min(stats)"
   ]
  },
  {
   "cell_type": "code",
   "execution_count": 186,
   "id": "1b535114",
   "metadata": {},
   "outputs": [
    {
     "data": {
      "text/plain": [
       "6"
      ]
     },
     "execution_count": 186,
     "metadata": {},
     "output_type": "execute_result"
    }
   ],
   "source": [
    "#max\n",
    "np.max(stats)"
   ]
  },
  {
   "cell_type": "code",
   "execution_count": 188,
   "id": "669ae98c",
   "metadata": {},
   "outputs": [
    {
     "data": {
      "text/plain": [
       "21"
      ]
     },
     "execution_count": 188,
     "metadata": {},
     "output_type": "execute_result"
    }
   ],
   "source": [
    "#sum of all elements\n",
    "np.sum(stats)"
   ]
  },
  {
   "cell_type": "code",
   "execution_count": 190,
   "id": "cc09e583",
   "metadata": {},
   "outputs": [],
   "source": [
    "#for more refer to the numpy documentations"
   ]
  },
  {
   "cell_type": "code",
   "execution_count": null,
   "id": "9d037a4f",
   "metadata": {},
   "outputs": [],
   "source": []
  },
  {
   "cell_type": "markdown",
   "id": "6cf24a90",
   "metadata": {},
   "source": [
    "# Rorganizing Arrays"
   ]
  },
  {
   "cell_type": "code",
   "execution_count": 194,
   "id": "f156f198",
   "metadata": {},
   "outputs": [
    {
     "name": "stdout",
     "output_type": "stream",
     "text": [
      "[[1 2 3 4]\n",
      " [5 6 7 8]] (2, 4)\n",
      "\n",
      "[[1]\n",
      " [2]\n",
      " [3]\n",
      " [4]\n",
      " [5]\n",
      " [6]\n",
      " [7]\n",
      " [8]]\n"
     ]
    }
   ],
   "source": [
    "#reshaping the array\n",
    "\n",
    "before=np.array([[1,2,3,4],[5,6,7,8]])\n",
    "print(before,before.shape)\n",
    "\n",
    "\n",
    "print()\n",
    "\n",
    "after= before.reshape((8,1))\n",
    "print(after)"
   ]
  },
  {
   "cell_type": "code",
   "execution_count": 197,
   "id": "fce169c6",
   "metadata": {},
   "outputs": [
    {
     "name": "stdout",
     "output_type": "stream",
     "text": [
      "[[ 1  2  3  4  5]\n",
      " [ 6  7  8  9 10]]\n"
     ]
    }
   ],
   "source": [
    "#vertiacally stacking vectors / matrixes\n",
    "\n",
    "v1=np.array([1,2,3,4,5])\n",
    "v2=np.array([6,7,8,9,10])\n",
    "\n",
    "v3=np.vstack([v1,v2])\n",
    "print(v3)   #merge two araay together but needs to have same dimenssions"
   ]
  },
  {
   "cell_type": "code",
   "execution_count": 199,
   "id": "cdb5ca14",
   "metadata": {},
   "outputs": [
    {
     "name": "stdout",
     "output_type": "stream",
     "text": [
      "[ 1  2  3  4  5  6  7  8  9 10]\n"
     ]
    }
   ],
   "source": [
    "#horizontal stacking :-\n",
    "\n",
    "\n",
    "v1=np.array([1,2,3,4,5])\n",
    "v2=np.array([6,7,8,9,10])\n",
    "\n",
    "v3=np.hstack([v1,v2])\n",
    "print(v3)"
   ]
  },
  {
   "cell_type": "code",
   "execution_count": null,
   "id": "b3bff42b",
   "metadata": {},
   "outputs": [],
   "source": []
  },
  {
   "cell_type": "markdown",
   "id": "c2a5801f",
   "metadata": {},
   "source": [
    "# Miscellaneous "
   ]
  },
  {
   "cell_type": "markdown",
   "id": "032a2900",
   "metadata": {},
   "source": [
    "# load data from the file (without using pandas)"
   ]
  },
  {
   "cell_type": "code",
   "execution_count": 211,
   "id": "e84e7901",
   "metadata": {},
   "outputs": [
    {
     "ename": "SyntaxError",
     "evalue": "(unicode error) 'unicodeescape' codec can't decode bytes in position 2-3: truncated \\UXXXXXXXX escape (Temp/ipykernel_15184/3701709008.py, line 1)",
     "output_type": "error",
     "traceback": [
      "\u001b[1;36m  File \u001b[1;32m\"C:\\Users\\rohit\\AppData\\Local\\Temp/ipykernel_15184/3701709008.py\"\u001b[1;36m, line \u001b[1;32m1\u001b[0m\n\u001b[1;33m    a=pd.open(\"C:\\Users\\rohit\\OneDrive\\Desktop\\datas.txt\")\u001b[0m\n\u001b[1;37m                                                         ^\u001b[0m\n\u001b[1;31mSyntaxError\u001b[0m\u001b[1;31m:\u001b[0m (unicode error) 'unicodeescape' codec can't decode bytes in position 2-3: truncated \\UXXXXXXXX escape\n"
     ]
    }
   ],
   "source": [
    "a=pd.open(\"C:\\Users\\rohit\\OneDrive\\Desktop\\datas.txt\")"
   ]
  },
  {
   "cell_type": "code",
   "execution_count": null,
   "id": "e6ed6ee8",
   "metadata": {},
   "outputs": [],
   "source": []
  }
 ],
 "metadata": {
  "kernelspec": {
   "display_name": "Python 3 (ipykernel)",
   "language": "python",
   "name": "python3"
  },
  "language_info": {
   "codemirror_mode": {
    "name": "ipython",
    "version": 3
   },
   "file_extension": ".py",
   "mimetype": "text/x-python",
   "name": "python",
   "nbconvert_exporter": "python",
   "pygments_lexer": "ipython3",
   "version": "3.9.7"
  }
 },
 "nbformat": 4,
 "nbformat_minor": 5
}
